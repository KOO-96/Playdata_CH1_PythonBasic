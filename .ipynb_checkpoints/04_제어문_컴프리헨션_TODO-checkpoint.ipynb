{
 "cells": [
  {
   "cell_type": "markdown",
   "id": "092288d7",
   "metadata": {
    "slideshow": {
     "slide_type": "skip"
    }
   },
   "source": [
    "# TODO"
   ]
  },
  {
   "cell_type": "code",
   "execution_count": null,
   "id": "c407faa1",
   "metadata": {
    "ExecuteTime": {
     "end_time": "2022-12-22T08:11:12.088857Z",
     "start_time": "2022-12-22T08:11:10.208644Z"
    },
    "slideshow": {
     "slide_type": "skip"
    }
   },
   "outputs": [],
   "source": [
    "#(1) 다음 점수 구간에 맞게 학점을 출력하세요.\n",
    "# 91 ~ 100 : A학점\n",
    "# 81 ~ 90 :  B학점\n",
    "# 71 ~ 80 :  C학점\n",
    "# 61 ~ 70 :  D학점\n",
    "# 60이하   :  F학점\n",
    "jumsu = int(input('변환할 점수: '))\n",
    "if jumsu < 0 or jumsu > 100:\n",
    "    print(f'{jumsu}는 변환할 수 없는 점수입니다. 0 ~ 100 사이의 값을 넣으세요.')\n",
    "elif jumsu >= 91:\n",
    "    print('A학점')\n",
    "elif jumsu >= 81:\n",
    "    print('B학점')\n",
    "elif jumsu >= 71:\n",
    "    print('C학점')\n",
    "elif jumsu >= 61:\n",
    "    print('D학점')\n",
    "else:\n",
    "    print('F학점')"
   ]
  },
  {
   "cell_type": "code",
   "execution_count": null,
   "id": "6bcfd3e6",
   "metadata": {
    "ExecuteTime": {
     "end_time": "2022-12-22T08:12:49.200943Z",
     "start_time": "2022-12-22T08:12:47.280531Z"
    },
    "slideshow": {
     "slide_type": "skip"
    }
   },
   "outputs": [],
   "source": [
    "#(2) 사용자로 부터 ID를 입력 받은 뒤 입력받은 ID가 5글자 이상이면 \"사용할 수 있습니다.\"를 \n",
    "# 5글자 미만이면 \"사용할 수 없는 ID입니다.\"를 출력하세요.\n",
    "ID = input('ID: ')\n",
    "if len(ID) >= 5:\n",
    "    print('사용할 수 있습니다.')\n",
    "else:\n",
    "    print('사용할 수 없는 ID입니다.')"
   ]
  },
  {
   "cell_type": "code",
   "execution_count": null,
   "id": "bfb44078",
   "metadata": {
    "ExecuteTime": {
     "end_time": "2022-12-22T08:17:13.580591Z",
     "start_time": "2022-12-22T08:17:06.730222Z"
    },
    "slideshow": {
     "slide_type": "skip"
    }
   },
   "outputs": [],
   "source": [
    "#(3) 사용자로부터 우리나라 도시명을 입력 받은 뒤 입력받은 도시명이 서울이면 \"특별시\"를 \n",
    "# 인천,부산,광주,대구,대전,울산 이면 \"광역시\"를 나머지는 \"특별시나 광역시가 아닙니다.\"를 출력하세요.\n",
    "city = input('도시명: ').strip()\n",
    "if city == '서울':\n",
    "    print('특별시')\n",
    "elif city in ['인천','부산','광주','대구','대전','울산']:\n",
    "    print('광역시')\n",
    "else:\n",
    "    print('특별시나 광역시가 아닙니다.')"
   ]
  },
  {
   "cell_type": "code",
   "execution_count": null,
   "id": "7b2319cf",
   "metadata": {
    "ExecuteTime": {
     "end_time": "2022-12-22T08:24:35.430425Z",
     "start_time": "2022-12-22T08:24:35.424195Z"
    },
    "slideshow": {
     "slide_type": "skip"
    }
   },
   "outputs": [],
   "source": [
    "#(4) 아래 리스트의 평균을 구하시오. \n",
    "jumsu = [100, 90, 100, 80, 70, 100, 80, 90, 95, 85]\n",
    "jumsu_sum = 0\n",
    "for j in jumsu:\n",
    "    jumsu_sum += j\n",
    "print(\"총점: \", jumsu_sum)\n",
    "jumsu_avg = jumsu_sum / len(jumsu)\n",
    "print(\"평균: \", jumsu_avg)"
   ]
  },
  {
   "cell_type": "code",
   "execution_count": null,
   "id": "2b5edad8",
   "metadata": {
    "ExecuteTime": {
     "end_time": "2022-12-22T08:24:51.240428Z",
     "start_time": "2022-12-22T08:24:51.226125Z"
    },
    "slideshow": {
     "slide_type": "skip"
    }
   },
   "outputs": [],
   "source": [
    "#(5) 위 jumsu리스트에서 평균점수이상은 pass, 미만은 fail을 index번호와 함께 출력하시오. (ex: 0-pass, 1-pass, 2-fail)\n",
    "for index, value in enumerate(jumsu):\n",
    "    if value >= jumsu_avg:\n",
    "        print(f\"{index}-Pass\")\n",
    "    else:\n",
    "        print(f\"{index}-Fail\")"
   ]
  },
  {
   "cell_type": "code",
   "execution_count": null,
   "id": "924073e2",
   "metadata": {
    "ExecuteTime": {
     "end_time": "2022-12-22T08:26:11.111128Z",
     "start_time": "2022-12-22T08:26:11.104631Z"
    }
   },
   "outputs": [],
   "source": [
    "for index, value in enumerate(jumsu):\n",
    "    print(f'{index} - {\"Pass\" if value >= jumsu_avg else \"Fail\"}')"
   ]
  },
  {
   "cell_type": "code",
   "execution_count": null,
   "id": "5f38cb19",
   "metadata": {
    "ExecuteTime": {
     "end_time": "2022-12-22T08:29:58.934683Z",
     "start_time": "2022-12-22T08:29:58.929732Z"
    },
    "slideshow": {
     "slide_type": "skip"
    }
   },
   "outputs": [],
   "source": [
    "#(6) 아래 리스트 값들 중 최대값을 조회해 출력\n",
    "jumsu = [60, 90, 80, 80, 70, 55, 80, 90, 95, 85]\n",
    "max_value =  jumsu[0] # 최대값을 저장할 변수. 각각의 원소들을 이 변수 값과 비교해서 큰 값으로 이 변수값을 변경.\n",
    "for value in jumsu:\n",
    "    if value > max_value:\n",
    "        max_value = value\n",
    "        \n",
    "print('최대값: ', max_value)"
   ]
  },
  {
   "cell_type": "code",
   "execution_count": null,
   "id": "cb06bc2c",
   "metadata": {},
   "outputs": [],
   "source": [
    "jumsu.sort()\n",
    "jumsu[-1]"
   ]
  },
  {
   "cell_type": "code",
   "execution_count": null,
   "id": "3876b41e",
   "metadata": {
    "ExecuteTime": {
     "end_time": "2022-12-22T08:32:29.722321Z",
     "start_time": "2022-12-22T08:32:29.714330Z"
    },
    "slideshow": {
     "slide_type": "skip"
    }
   },
   "outputs": [],
   "source": [
    "#(7) 다음 리스트 중에서 \"쥐\"와 \"토끼\" 제외한 나머지를 출력하세요.\n",
    "str_list = [\"쥐\", \"소\", \"호랑이\", \"토끼\", \"용\", \"뱀\", \"토끼\"]\n",
    "for value in str_list:\n",
    "    if value not in [\"쥐\", \"토끼\"]:\n",
    "        print(value)\n",
    "\n",
    "print(\"-\"*50)      \n",
    "\n",
    "for value in str_list:\n",
    "    if value in [\"쥐\", \"토끼\"]:\n",
    "        continue\n",
    "    print(value)        "
   ]
  },
  {
   "cell_type": "code",
   "execution_count": null,
   "id": "2941e78b",
   "metadata": {
    "ExecuteTime": {
     "end_time": "2022-12-22T08:36:01.204048Z",
     "start_time": "2022-12-22T08:36:00.226236Z"
    },
    "slideshow": {
     "slide_type": "skip"
    }
   },
   "outputs": [],
   "source": [
    "#(8) 사용자로부터 정수를 입력받아 그 단의 구구단을 출력하시오. \n",
    "# ex) 단을 입력하시오 : 2  \n",
    "# 2 x 1 = 2\n",
    "# 2 x 2 = 4\n",
    "#..\n",
    "# 2 x 9 = 18\n",
    "dan = int(input(\"단을 입력하시오: \"))\n",
    "for i in range(1, 10):\n",
    "    print(f\"{dan} X {i} = {dan*i}\")"
   ]
  },
  {
   "cell_type": "code",
   "execution_count": null,
   "id": "bd8a5c0c",
   "metadata": {
    "ExecuteTime": {
     "end_time": "2022-12-22T08:37:02.350310Z",
     "start_time": "2022-12-22T08:37:02.330701Z"
    },
    "slideshow": {
     "slide_type": "skip"
    }
   },
   "outputs": [],
   "source": [
    "#컴프리헨션\n",
    "\n",
    "#(9) 다음 리스트가 가진 값에 두배(* 2)를 가지는 새로운 리스트를 만드시오. (리스트 컴프리헨션 이용)\n",
    "lst = [10, 30, 70, 5, 120, 700, 1, 35]\n",
    "\n",
    "[value*2 for value in lst]  "
   ]
  },
  {
   "cell_type": "code",
   "execution_count": null,
   "id": "3290e05f",
   "metadata": {
    "ExecuteTime": {
     "end_time": "2022-12-22T08:38:30.887114Z",
     "start_time": "2022-12-22T08:38:30.875452Z"
    },
    "slideshow": {
     "slide_type": "skip"
    }
   },
   "outputs": [],
   "source": [
    "#(10) 다음 리스트가 가진 값에 10배의 값을 가지는 값을 (원래값, 10배값) 의 튜플 묶음으로 가지는 리스트를 만드시오 (리스트 컴프리헨션 이용)\n",
    "# Ex) [(10,100), (30,300), .., (35, 350)]\n",
    "lst = [10, 30, 70, 5, 5, 120, 700, 1, 35, 35]\n",
    "\n",
    "[(v, v*10) for v in lst]"
   ]
  },
  {
   "cell_type": "code",
   "execution_count": null,
   "id": "c8356fdd",
   "metadata": {
    "ExecuteTime": {
     "end_time": "2022-12-22T08:39:29.797617Z",
     "start_time": "2022-12-22T08:39:29.776718Z"
    },
    "slideshow": {
     "slide_type": "skip"
    }
   },
   "outputs": [],
   "source": [
    "#(11) 다음 리스트가 가진 값들 중 3의 배수만 가지는 리스트를 만드시오. (리스트 컴프리헨션 이용)\n",
    "lst2 = [ 3, 20, 33, 21, 33, 8, 11, 10, 7, 17, 60, 120, 2]\n",
    "[value for value in lst2 if value % 3 == 0]"
   ]
  },
  {
   "cell_type": "code",
   "execution_count": null,
   "id": "bba1ec42",
   "metadata": {
    "ExecuteTime": {
     "end_time": "2022-12-22T08:41:02.803541Z",
     "start_time": "2022-12-22T08:41:02.786027Z"
    },
    "slideshow": {
     "slide_type": "skip"
    }
   },
   "outputs": [],
   "source": [
    "#(12) 다음 파일이름들을 담은 리스트에서 확장자가 exe인 파일만 골라서 새로운 리스트에 담으시오.(string의 endswith()함수 이용)\n",
    "file_name=[\"test.txt\", \"a.exe\", \"jupyter.bat\", \"function.exe\", \"b.exe\", \"cat.jpg\", \"dog.png\", \"run.exe\", \"i.dll\"]\n",
    "\n",
    "[file for file in file_name if file.endswith('.exe')]"
   ]
  },
  {
   "cell_type": "code",
   "execution_count": null,
   "id": "787a50de",
   "metadata": {
    "ExecuteTime": {
     "end_time": "2022-12-22T08:42:13.567200Z",
     "start_time": "2022-12-22T08:42:13.556057Z"
    },
    "slideshow": {
     "slide_type": "skip"
    }
   },
   "outputs": [],
   "source": [
    "#(13) 다음 중 10글자 이상인 파일명(확장자포함)만 가지는 리스트를 만드시오.\n",
    "file_name=[\"mystroy.txt\", \"a.exe\", \"jupyter.bat\", \"function.exe\", \"b.exe\", \"cat.jpg\", \"dog.png\", \"run.exe\", \"i.dll\"]\n",
    "[file for file in file_name if len(file) >= 10]"
   ]
  },
  {
   "cell_type": "code",
   "execution_count": null,
   "id": "a0cc04fa",
   "metadata": {
    "ExecuteTime": {
     "end_time": "2022-12-22T08:46:48.852766Z",
     "start_time": "2022-12-22T08:46:48.834401Z"
    },
    "slideshow": {
     "slide_type": "skip"
    }
   },
   "outputs": [],
   "source": [
    "#(14) 다음 리스트에서 소문자만 가지는 새로운 리스트를 만드시오.\n",
    "str_list = [\"A\", \"B\", \"c\", \"D\", \"E\", \"F\", \"g\", \"h\", \"I\", \"J\", \"k\"]\n",
    "[value for value in str_list if value.islower()]"
   ]
  }
 ],
 "metadata": {
  "kernelspec": {
   "display_name": "Python 3 (ipykernel)",
   "language": "python",
   "name": "python3"
  },
  "language_info": {
   "codemirror_mode": {
    "name": "ipython",
    "version": 3
   },
   "file_extension": ".py",
   "mimetype": "text/x-python",
   "name": "python",
   "nbconvert_exporter": "python",
   "pygments_lexer": "ipython3",
   "version": "3.11.4"
  },
  "toc": {
   "base_numbering": 1,
   "nav_menu": {},
   "number_sections": true,
   "sideBar": true,
   "skip_h1_title": false,
   "title_cell": "Table of Contents",
   "title_sidebar": "Contents",
   "toc_cell": false,
   "toc_position": {},
   "toc_section_display": true,
   "toc_window_display": false
  },
  "varInspector": {
   "cols": {
    "lenName": 16,
    "lenType": 16,
    "lenVar": 40
   },
   "kernels_config": {
    "python": {
     "delete_cmd_postfix": "",
     "delete_cmd_prefix": "del ",
     "library": "var_list.py",
     "varRefreshCmd": "print(var_dic_list())"
    },
    "r": {
     "delete_cmd_postfix": ") ",
     "delete_cmd_prefix": "rm(",
     "library": "var_list.r",
     "varRefreshCmd": "cat(var_dic_list()) "
    }
   },
   "types_to_exclude": [
    "module",
    "function",
    "builtin_function_or_method",
    "instance",
    "_Feature"
   ],
   "window_display": false
  }
 },
 "nbformat": 4,
 "nbformat_minor": 5
}
