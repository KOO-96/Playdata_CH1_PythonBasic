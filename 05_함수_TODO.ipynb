{
 "cells": [
  {
   "cell_type": "markdown",
   "metadata": {
    "slideshow": {
     "slide_type": "slide"
    }
   },
   "source": [
    "# 함수란\n",
    "- 함수란 입력변수와 출력변수간의 대응 관계를 정의한 것을 말한다.\n",
    "- 프로그램에서 함수란 하나의 작업, 기능, 동작을 처리하기 위한 사용자 정의 연산자라고 할 수 있다.\n",
    "    - 함수는 값을 **입력(Input)을** 받아서 **처리 후** 처리결과를 **출력(Output)하는** 일련의 과정을 정의한 것을 말한다.\n",
    "    - 만들어진 함수는 동일한 작업이 필요할 때 마다 재사용될 수 있다.\n",
    "    - 함수를 구현해 파이썬 실행환경에 등록하는 것을 **함수를 정의(define)한다** 라고 한다.\n",
    "    - 정의된 함수를 사용하는 것을 **함수를 호출(call)한다** 라고 한다.\n",
    "    - 파이썬에서 함수는 일급 시민 객체(First Class Citizen/First Class Object)이다.\n",
    "    \n",
    "> - **일급 시민 객체 란**   \n",
    ">    - **변수에 할당할 수 있고, 함수의 입력값으로 전달할 수 있고, 함수의 반환 값으로 반환할 수 있는 객체를 말한다.**\n",
    ">    - 일급시민객체는 일급시민 이란 말에서 유래된 용어이다.\n",
    "        - 일급 시민이란 자유롭게 거주하며 일을 할 수 있고, 출입국의 자유를 가지며 투표의 자유를 가지는 시민을 의미한다. \n",
    "        - 일급 시민 객체란 적용 가능한 연산을 모두 지원하는 객체를 뜻한다."
   ]
  },
  {
   "cell_type": "markdown",
   "metadata": {
    "slideshow": {
     "slide_type": "slide"
    }
   },
   "source": [
    "## 함수 만들기\n",
    "- 함수의 정의\n",
    "    - 새로운 함수를 만드는 것을 함수의 정의라고 한다.\n",
    "    - 함수를 구현하고 그것을 파이썬 실행환경에 새로운 기능으로 등록하는 과정을 말한다."
   ]
  },
  {
   "cell_type": "markdown",
   "metadata": {
    "slideshow": {
     "slide_type": "fragment"
    }
   },
   "source": [
    "- 함수 구현\n",
    "    - 함수의 선언부와 구현부로 나누어진다\n",
    "        - 함수의 선언부(Header) : 함수의 이름과 입력값을 받을 변수(Parameter, 매개변수)를 지정한다.\n",
    "        - 함수의 구현부(Body) : 함수가 호출 되었을 때 실행할 실행문들을 순서대로 작성한다."
   ]
  },
  {
   "cell_type": "markdown",
   "metadata": {
    "slideshow": {
     "slide_type": "fragment"
    }
   },
   "source": [
    "``` python\n",
    "# [ ]: 옵션(생략가능)\n",
    "def 함수이름( [변수, 변수, ..]):  # 선언 부(Header)\n",
    "    # 구현 부(body)\n",
    "    실행구문1\n",
    "    실행구문2\n",
    "    실행구문3\n",
    "    …\n",
    "    [return [결과값]]\n",
    "```\n",
    "- 함수 선언 마지막에는 `:` 을 넣어 구현부와 구분한다.\n",
    "- Parameter(매개변수)는 argument(호출하는 곳에서 전달하는 함수의 입력값)를 받기 위한 변수로 0개 이상 선언할 수 있다.\n",
    "- 함수의 실행구문은 코드블록으로 들여쓰기로 블록을 묶어준다. \n",
    "    - 들여쓰기는 보통 공백 4칸을 사용한다.\n",
    "- 함수의 처리 결과값이 있을 경우 **return 구문**을 넣고 없을 경우 return은 생략할 수 있다.\n",
    "- **함수이름 관례**\n",
    "    - 함수이름은 보통 동사형으로 만든다.\n",
    "    - Snake 표기법사용\n",
    "        -  모두 소문자로 하고 여러단어로 구성할 경우 각 단어들을 `_`로 연결한다. (변수와 동일)"
   ]
  },
  {
   "cell_type": "code",
   "execution_count": 30,
   "metadata": {},
   "outputs": [
    {
     "ename": "IndentationError",
     "evalue": "unindent does not match any outer indentation level (<tokenize>, line 5)",
     "output_type": "error",
     "traceback": [
      "\u001b[1;36m  File \u001b[1;32m<tokenize>:5\u001b[1;36m\u001b[0m\n\u001b[1;33m    print(\"반갑습니다.\")\u001b[0m\n\u001b[1;37m    ^\u001b[0m\n\u001b[1;31mIndentationError\u001b[0m\u001b[1;31m:\u001b[0m unindent does not match any outer indentation level\n"
     ]
    }
   ],
   "source": [
    "# 함수 정의 = 함수 구현 + 실행환경에 등록\n",
    "def greet():  # header(선언부). () => paramter(피연산자)가 없는 함수\n",
    "    # body(구현부) -> 함수 호출시 실행될 코드(처리코드)\n",
    "    print(\"안녕하세요.\")\n",
    "    print(\"반갑습니다.\")\n",
    "    # 반환값(처리결과-return value)  가 없는 함수"
   ]
  },
  {
   "cell_type": "code",
   "execution_count": 11,
   "metadata": {
    "collapsed": true
   },
   "outputs": [
    {
     "name": "stdout",
     "output_type": "stream",
     "text": [
      "안녕하세요.\n",
      "반갑습니다.\n"
     ]
    }
   ],
   "source": [
    "# 함수 호출: 실행\n",
    "greet()"
   ]
  },
  {
   "cell_type": "code",
   "execution_count": 13,
   "metadata": {
    "scrolled": false
   },
   "outputs": [
    {
     "name": "stdout",
     "output_type": "stream",
     "text": [
      "안녕하세요.\n",
      "반갑습니다.\n",
      "안녕하세요.\n",
      "반갑습니다.\n",
      "안녕하세요.\n",
      "반갑습니다.\n"
     ]
    }
   ],
   "source": [
    "greet()\n",
    "greet()\n",
    "greet()"
   ]
  },
  {
   "cell_type": "code",
   "execution_count": 18,
   "metadata": {},
   "outputs": [],
   "source": [
    "# 파라미터가 있는 함수\n",
    "## 함수가 처리할 값을 호출하는 곳에서 받는다.\n",
    "def greet2(name): # (name) : 파라미터가 있는 함수 -> () 안에 변수들을 선언.\n",
    "    # 파라미터 변수의 값을 이용해서 처리\n",
    "    print(f\"{name}님 안녕하세요.\")\n",
    "    print(\"반갑습니다.\")"
   ]
  },
  {
   "cell_type": "code",
   "execution_count": 20,
   "metadata": {},
   "outputs": [
    {
     "name": "stdout",
     "output_type": "stream",
     "text": [
      "이순신님 안녕하세요.\n",
      "반갑습니다.\n"
     ]
    }
   ],
   "source": [
    "greet2(\"이순신\") \n",
    "# 호출 시 파라미터에 값 전달: 함수이름(값)\n",
    "# 함수에 전달하는 값: Argument"
   ]
  },
  {
   "cell_type": "code",
   "execution_count": 21,
   "metadata": {},
   "outputs": [
    {
     "name": "stdout",
     "output_type": "stream",
     "text": [
      "강감찬님 안녕하세요.\n",
      "반갑습니다.\n"
     ]
    }
   ],
   "source": [
    "greet2(\"강감찬\")"
   ]
  },
  {
   "cell_type": "code",
   "execution_count": 23,
   "metadata": {},
   "outputs": [
    {
     "name": "stdout",
     "output_type": "stream",
     "text": [
      "유관순님 안녕하세요.\n",
      "반갑습니다.\n"
     ]
    }
   ],
   "source": [
    "greet2(\"유관순\")"
   ]
  },
  {
   "cell_type": "code",
   "execution_count": 24,
   "metadata": {},
   "outputs": [],
   "source": [
    "def greet3(name, age, address): #파라미터가 3개\n",
    "    print(f\"{address}에 사는 {age} 세 {name}님 안녕하세요.\")\n",
    "    print(\"반갑습니다.\")"
   ]
  },
  {
   "cell_type": "code",
   "execution_count": 25,
   "metadata": {},
   "outputs": [
    {
     "name": "stdout",
     "output_type": "stream",
     "text": [
      "서울에 사는 30 세 이순신님 안녕하세요.\n",
      "반갑습니다.\n"
     ]
    }
   ],
   "source": [
    "greet3(\"이순신\", 30, \"서울\")"
   ]
  },
  {
   "cell_type": "code",
   "execution_count": 26,
   "metadata": {},
   "outputs": [
    {
     "name": "stdout",
     "output_type": "stream",
     "text": [
      "부산에 사는 40 세 유관순님 안녕하세요.\n",
      "반갑습니다.\n"
     ]
    }
   ],
   "source": [
    "greet3(\"유관순\", 40, \"부산\")"
   ]
  },
  {
   "cell_type": "code",
   "execution_count": 27,
   "metadata": {},
   "outputs": [
    {
     "name": "stdout",
     "output_type": "stream",
     "text": [
      "33에 사는 강감찬 세 인천님 안녕하세요.\n",
      "반갑습니다.\n"
     ]
    }
   ],
   "source": [
    "greet3(\"인천\", \"강감찬\", 33)"
   ]
  },
  {
   "cell_type": "code",
   "execution_count": 28,
   "metadata": {},
   "outputs": [
    {
     "ename": "TypeError",
     "evalue": "greet3() missing 1 required positional argument: 'address'",
     "output_type": "error",
     "traceback": [
      "\u001b[1;31m-----------------------------------------------\u001b[0m",
      "\u001b[1;31mTypeError\u001b[0m     Traceback (most recent call last)",
      "Cell \u001b[1;32mIn[28], line 1\u001b[0m\n\u001b[1;32m----> 1\u001b[0m greet3(\u001b[38;5;124m\"\u001b[39m\u001b[38;5;124m이순신\u001b[39m\u001b[38;5;124m\"\u001b[39m, \u001b[38;5;241m20\u001b[39m)\n",
      "\u001b[1;31mTypeError\u001b[0m: greet3() missing 1 required positional argument: 'address'"
     ]
    }
   ],
   "source": [
    "# 기본적으로 파라미터와 argument의 개수는 같아야 한다.\n",
    "# 파라미터: 3, argument: 2 \n",
    "greet3(\"이순신\", 20)"
   ]
  },
  {
   "cell_type": "markdown",
   "metadata": {
    "slideshow": {
     "slide_type": "subslide"
    }
   },
   "source": [
    "### return value(반환값)\n",
    "- 함수가 호출받아 처리한 결과값으로 호출한 곳으로 반환하는 값이다.\n",
    "- 함수 구현부에 return \\[값\\] 구문을 사용해 반환한다.\n",
    "    - **return**\n",
    "        - 함수가 정상적으로 끝났고 호출한곳으로 돌아간다.\n",
    "        - 보통은 함수 구현의 마지막에 넣지만 경우에 따라 중간에 올 수 있다.\n",
    "    - **return 반환값**\n",
    "        - 호출한 곳으로 값을 가지고 돌아간다. (반환한다)\n",
    "        - 반환값이 없을 경우 None을 반환한다.\n",
    "        - 함수에 return 구문이 없을 경우 마지막에 return None이 실행된다.\n",
    "- 여러개의 값을 return 하는 경우 자료구조로 묶어서 전달해야한다.\n",
    "    - 함수는 한개의 값만 반환할 수 있다. "
   ]
  },
  {
   "cell_type": "code",
   "execution_count": 31,
   "metadata": {},
   "outputs": [],
   "source": [
    "def greet4(name, age, address): #파라미터가 3개\n",
    "    txt = f\"{address}에 사는 {age} 세 {name}님 안녕하세요.\\n반갑습니다.\"\n",
    "    return txt # 호출한 곳으로(caller) txt값을 가지고 돌아가라."
   ]
  },
  {
   "cell_type": "code",
   "execution_count": 35,
   "metadata": {},
   "outputs": [
    {
     "name": "stdout",
     "output_type": "stream",
     "text": [
      "서울에 사는 30 세 이순신님 안녕하세요.\n",
      "반갑습니다.\n"
     ]
    }
   ],
   "source": [
    "value = greet4(\"이순신\", 30, \"서울\") \n",
    "# greet4() 함수의 처리결과(return 값)을 변수 value에 할당\n",
    "print(value)"
   ]
  },
  {
   "cell_type": "code",
   "execution_count": 38,
   "metadata": {},
   "outputs": [],
   "source": [
    "# print(\"저장:\", value)\n",
    "# greet.txt 파일에 value를 저장.\n",
    "with open(\"greet.txt\", \"w\", encoding='UTF-8') as f:\n",
    "    f.write(value)"
   ]
  },
  {
   "cell_type": "code",
   "execution_count": 44,
   "metadata": {},
   "outputs": [],
   "source": [
    "#  값을 여러개 리턴 해야 하는 함수 (처리결과가 여러개)\n",
    "def calculate(num1, num2):\n",
    "    # 산술연산 처리.\n",
    "    r1 = num1 + num2\n",
    "    r2 = num1 - num2\n",
    "    r3 = num1 * num2\n",
    "    r4 = num1 / num2\n",
    "    r5 = num1 ** num2\n",
    "    return r1, r2, r3, r4, r5 \n",
    "#     return [r1, r2, r3, r4, r5 ]\n",
    "#return값: 1개만 가능 => 반환값이 여러개인 경우 자료구조를 묶어서 return해야한다.\n",
    "#return r1, r2, r3,.. -> 튜플로 묶어서 반환."
   ]
  },
  {
   "cell_type": "code",
   "execution_count": 45,
   "metadata": {},
   "outputs": [],
   "source": [
    "v = calculate(10, 5)"
   ]
  },
  {
   "cell_type": "code",
   "execution_count": 46,
   "metadata": {
    "slideshow": {
     "slide_type": "fragment"
    }
   },
   "outputs": [
    {
     "name": "stdout",
     "output_type": "stream",
     "text": [
      "<class 'list'> [15, 5, 50, 2.0, 100000]\n"
     ]
    }
   ],
   "source": [
    "print(type(v), v)"
   ]
  },
  {
   "cell_type": "code",
   "execution_count": 47,
   "metadata": {},
   "outputs": [
    {
     "name": "stdout",
     "output_type": "stream",
     "text": [
      "11 -1 30 0.8333333333333334 15625\n"
     ]
    }
   ],
   "source": [
    "v1, v2, v3, v4, v5 = calculate(5, 6) #  튜플대입을 통해서 받는다.\n",
    "print(v1,v2, v3, v4, v5 )"
   ]
  },
  {
   "cell_type": "code",
   "execution_count": null,
   "metadata": {},
   "outputs": [],
   "source": [
    "v1, v2 = [1, 2]\n",
    "v1, v2 = 1, 2\n",
    "v1, v2 = {1, 2}"
   ]
  },
  {
   "cell_type": "code",
   "execution_count": 50,
   "metadata": {},
   "outputs": [],
   "source": [
    "def greet10():\n",
    "    print(\"안녕\")\n",
    "    print(\"안녕\")\n",
    "    print(\"안녕\")\n",
    "    print(\"안녕\")\n",
    "    print(\"안녕\")\n",
    "    return None\n",
    "    # return 값(구문)이 없는 함수 => return None"
   ]
  },
  {
   "cell_type": "code",
   "execution_count": 52,
   "metadata": {},
   "outputs": [
    {
     "name": "stdout",
     "output_type": "stream",
     "text": [
      "안녕\n",
      "None\n"
     ]
    }
   ],
   "source": [
    "v = greet10()\n",
    "print(v)"
   ]
  },
  {
   "cell_type": "code",
   "execution_count": null,
   "metadata": {},
   "outputs": [],
   "source": []
  },
  {
   "cell_type": "code",
   "execution_count": 72,
   "metadata": {},
   "outputs": [],
   "source": [
    "# return : (함수실행을 멈추고) 호출한 곳으로 돌아가라.\n",
    "def divide(num1, num2): # num1/num2\n",
    "    if num2 == 0:\n",
    "        print(\"0으로 나눌 수 없습니다.\")\n",
    "        return #None  \n",
    "    \n",
    "    return num1 / num2  "
   ]
  },
  {
   "cell_type": "code",
   "execution_count": 1,
   "metadata": {},
   "outputs": [
    {
     "ename": "NameError",
     "evalue": "name 'divide' is not defined",
     "output_type": "error",
     "traceback": [
      "\u001b[1;31m-----------------------------------------------\u001b[0m",
      "\u001b[1;31mNameError\u001b[0m     Traceback (most recent call last)",
      "Cell \u001b[1;32mIn[1], line 1\u001b[0m\n\u001b[1;32m----> 1\u001b[0m v \u001b[38;5;241m=\u001b[39m divide(\u001b[38;5;241m10\u001b[39m, \u001b[38;5;241m2\u001b[39m)\n\u001b[0;32m      2\u001b[0m \u001b[38;5;28mprint\u001b[39m(v)\n\u001b[0;32m      3\u001b[0m v \u001b[38;5;241m=\u001b[39m divide(\u001b[38;5;241m10\u001b[39m, \u001b[38;5;241m0\u001b[39m)\n",
      "\u001b[1;31mNameError\u001b[0m: name 'divide' is not defined"
     ]
    }
   ],
   "source": [
    "v = divide(10, 2)\n",
    "print(v)\n",
    "v = divide(10, 0)\n",
    "# if v != None:\n",
    "if v:\n",
    "    print(v + 10)"
   ]
  },
  {
   "cell_type": "code",
   "execution_count": 68,
   "metadata": {},
   "outputs": [
    {
     "name": "stdout",
     "output_type": "stream",
     "text": [
      "None\n"
     ]
    }
   ],
   "source": [
    "d = {\"a\":10, \"b\":20}\n",
    "v = d.get(\"aaaa\")\n",
    "if v != None:\n",
    "    print(v + 10)"
   ]
  },
  {
   "cell_type": "code",
   "execution_count": null,
   "metadata": {
    "slideshow": {
     "slide_type": "fragment"
    }
   },
   "outputs": [],
   "source": []
  },
  {
   "cell_type": "markdown",
   "metadata": {
    "slideshow": {
     "slide_type": "slide"
    }
   },
   "source": [
    "## Parameter (매개변수)\n",
    " \n",
    "### 기본값이 있는 Parameter\n",
    "- 매개변수에 값을 대입하는 구문을 작성하면 호출할 때 argument 가 넘어오지 않으면 대입해놓은 기본값을 사용한다.\n",
    "- 함수 정의시 기본값 없는 매개변수, 있는 매개변수를 같이 선언할 수 있다.\n",
    "    - **이때 기본값 없는 매개변수들을 선언하고 그 다음에 기본값 있는 매개변수들을 선언한다.** "
   ]
  },
  {
   "cell_type": "code",
   "execution_count": 2,
   "metadata": {},
   "outputs": [],
   "source": [
    "def print_info(name):\n",
    "    print(f\"이름: {name}\")"
   ]
  },
  {
   "cell_type": "code",
   "execution_count": 5,
   "metadata": {
    "collapsed": true
   },
   "outputs": [
    {
     "name": "stdout",
     "output_type": "stream",
     "text": [
      "이름: 홍길동\n",
      "이름: 이순신\n"
     ]
    },
    {
     "ename": "TypeError",
     "evalue": "print_info() missing 1 required positional argument: 'name'",
     "output_type": "error",
     "traceback": [
      "\u001b[1;31m-----------------------------------------------\u001b[0m",
      "\u001b[1;31mTypeError\u001b[0m     Traceback (most recent call last)",
      "Cell \u001b[1;32mIn[5], line 3\u001b[0m\n\u001b[0;32m      1\u001b[0m print_info(\u001b[38;5;124m\"\u001b[39m\u001b[38;5;124m홍길동\u001b[39m\u001b[38;5;124m\"\u001b[39m)\n\u001b[0;32m      2\u001b[0m print_info(\u001b[38;5;124m\"\u001b[39m\u001b[38;5;124m이순신\u001b[39m\u001b[38;5;124m\"\u001b[39m)\n\u001b[1;32m----> 3\u001b[0m print_info()\n",
      "\u001b[1;31mTypeError\u001b[0m: print_info() missing 1 required positional argument: 'name'"
     ]
    }
   ],
   "source": [
    "print_info(\"홍길동\")\n",
    "print_info(\"이순신\")\n",
    "print_info()"
   ]
  },
  {
   "cell_type": "code",
   "execution_count": 7,
   "metadata": {},
   "outputs": [],
   "source": [
    "# 기본값이 있는 파라미터 - 호출하는 곳(caller) 에서 argument를 전달하지 않으면\n",
    "#                        기본값(대입된 값)을 사용한다. \n",
    "def print_info2(name=\"무명\"):\n",
    "    print(f\"이름: {name}\")"
   ]
  },
  {
   "cell_type": "code",
   "execution_count": 10,
   "metadata": {},
   "outputs": [
    {
     "name": "stdout",
     "output_type": "stream",
     "text": [
      "이름: 홍길동\n",
      "이름: 이순신\n",
      "이름: 무명\n"
     ]
    }
   ],
   "source": [
    "print_info2(\"홍길동\")\n",
    "print_info2(\"이순신\")\n",
    "print_info2()"
   ]
  },
  {
   "cell_type": "code",
   "execution_count": 20,
   "metadata": {},
   "outputs": [],
   "source": [
    "#name, age, address => 필수\n",
    "#hobby => 선택사항.\n",
    "def print_info3(name, age, address, hobby=None):#, nickname):\n",
    "    print(name, age, address)\n",
    "    if hobby != None:\n",
    "        print(\"취미: \", hobby)"
   ]
  },
  {
   "cell_type": "code",
   "execution_count": 17,
   "metadata": {},
   "outputs": [
    {
     "name": "stdout",
     "output_type": "stream",
     "text": [
      "이순신 30 서울\n",
      "취미:  독서\n"
     ]
    }
   ],
   "source": [
    "print_info3(\"이순신\", 30, \"서울\", \"독서\")"
   ]
  },
  {
   "cell_type": "code",
   "execution_count": 22,
   "metadata": {
    "scrolled": true
   },
   "outputs": [
    {
     "name": "stdout",
     "output_type": "stream",
     "text": [
      "이순신 30 서울\n"
     ]
    }
   ],
   "source": [
    "print_info3(\"이순신\", 30, \"서울\")"
   ]
  },
  {
   "cell_type": "code",
   "execution_count": null,
   "metadata": {
    "slideshow": {
     "slide_type": "fragment"
    }
   },
   "outputs": [],
   "source": []
  },
  {
   "cell_type": "markdown",
   "metadata": {
    "slideshow": {
     "slide_type": "subslide"
    }
   },
   "source": [
    "### Positional argument와 Keyword argument \n",
    "- Argument는 함수/메소드를 호출할 때 전달하는 입력값을 말한다.\n",
    "    - Argument는 전달하는 값이고 Parameter는 그 값을 저장하는 변수\n",
    "- Positional argument\n",
    "    -  함수 호출 할때 argument(전달인자)를 Parameter  순서에 맞춰 값을 넣어서 호출.\n",
    "- keyword  argument \n",
    "    - 함수 호출할 때 argument를 `Parameter변수명 = 전달할값` 형식으로 선언해서 어떤 parameter에 어떤 값을 전달할 것인지 지정해서 호출.\n",
    "    - 순서와 상관없이 호출하는 것이 가능.\n",
    "    - parameter가 많고 대부분 기본값이 있는 함수 호출 할 때 뒤 쪽에 선언된 parameter에만 값을 전달하고 싶을 경우 유용하다."
   ]
  },
  {
   "cell_type": "code",
   "execution_count": null,
   "metadata": {},
   "outputs": [],
   "source": [
    "# def print_info3(name, age, address, hobby=None)"
   ]
  },
  {
   "cell_type": "code",
   "execution_count": 23,
   "metadata": {},
   "outputs": [
    {
     "name": "stdout",
     "output_type": "stream",
     "text": [
      "이순신 30 서울\n",
      "취미:  독서\n"
     ]
    }
   ],
   "source": [
    "# positional arguments => 파라미터 변수 순서에 맞춰 값을 전달.\n",
    "print_info3(\"이순신\", 30, \"서울\", \"독서\")"
   ]
  },
  {
   "cell_type": "code",
   "execution_count": 24,
   "metadata": {},
   "outputs": [
    {
     "name": "stdout",
     "output_type": "stream",
     "text": [
      "강감찬 20 인천\n",
      "취미:  게임\n"
     ]
    }
   ],
   "source": [
    "# keyword argument: 파라미터변수명 = 전달할값\n",
    "print_info3(name=\"강감찬\", age=20, address=\"인천\", hobby=\"게임\")"
   ]
  },
  {
   "cell_type": "code",
   "execution_count": 25,
   "metadata": {},
   "outputs": [
    {
     "name": "stdout",
     "output_type": "stream",
     "text": [
      "강감찬 20 인천\n",
      "취미:  게임\n"
     ]
    }
   ],
   "source": [
    "print_info3(age=20, address=\"인천\", hobby=\"게임\",  name=\"강감찬\")"
   ]
  },
  {
   "cell_type": "code",
   "execution_count": 27,
   "metadata": {},
   "outputs": [
    {
     "name": "stdout",
     "output_type": "stream",
     "text": [
      "강감찬 30 인천\n",
      "취미:  스포츠\n"
     ]
    }
   ],
   "source": [
    "# positional arguments를 먼저 넣고 그다음에 keyword arguments 들을 넣어 호출.\n",
    "# print_info3(name=\"강감찬\", 20, \"인천\", hobby=\"게임\")\n",
    "print_info3(\"강감찬\", 30, address=\"인천\", hobby=\"스포츠\")"
   ]
  },
  {
   "cell_type": "code",
   "execution_count": 28,
   "metadata": {},
   "outputs": [],
   "source": [
    "# default(기본값)이 있는 파라미터가 많이 있는 함수.\n",
    "def test(a=0, b=0, c=None, d=-1, e=0, f=None, g=None):\n",
    "    print(a, b, c, d, e, f, g)"
   ]
  },
  {
   "cell_type": "code",
   "execution_count": 30,
   "metadata": {},
   "outputs": [
    {
     "name": "stdout",
     "output_type": "stream",
     "text": [
      "100 200 None -1 0 None None\n"
     ]
    }
   ],
   "source": [
    "test(100, 200)"
   ]
  },
  {
   "cell_type": "code",
   "execution_count": 33,
   "metadata": {},
   "outputs": [
    {
     "name": "stdout",
     "output_type": "stream",
     "text": [
      "0 0 None -1 0 None 1000\n"
     ]
    }
   ],
   "source": [
    "# 파라미터 g에 값(1000)을 전달, 나머진 기본값을 사용하도록 호출.\n",
    "test(0, 0, None, -1, 0, None, 1000)"
   ]
  },
  {
   "cell_type": "code",
   "execution_count": 34,
   "metadata": {},
   "outputs": [
    {
     "name": "stdout",
     "output_type": "stream",
     "text": [
      "0 0 None -1 0 None 1000\n"
     ]
    }
   ],
   "source": [
    "test(g=1000)"
   ]
  },
  {
   "cell_type": "code",
   "execution_count": 40,
   "metadata": {
    "scrolled": false
   },
   "outputs": [],
   "source": [
    "import pandas\n",
    "# help(pandas.read_csv)\n",
    "pandas.read_csv?"
   ]
  },
  {
   "cell_type": "code",
   "execution_count": 45,
   "metadata": {},
   "outputs": [
    {
     "name": "stdout",
     "output_type": "stream",
     "text": [
      "10,20,30,40\n",
      "123"
     ]
    }
   ],
   "source": [
    "print(10, 20, 30, 40, sep=\",\")\n",
    "print(1, end=\"\")\n",
    "print(2, end=\"\")\n",
    "print(3, end=\"\")"
   ]
  },
  {
   "cell_type": "code",
   "execution_count": 46,
   "metadata": {},
   "outputs": [
    {
     "data": {
      "text/plain": [
       "{'name': '이순신', 'age': 30}"
      ]
     },
     "execution_count": 46,
     "metadata": {},
     "output_type": "execute_result"
    }
   ],
   "source": [
    "dict(name=\"이순신\", age=30)"
   ]
  },
  {
   "cell_type": "code",
   "execution_count": null,
   "metadata": {},
   "outputs": [],
   "source": []
  },
  {
   "cell_type": "code",
   "execution_count": null,
   "metadata": {
    "slideshow": {
     "slide_type": "fragment"
    }
   },
   "outputs": [],
   "source": []
  },
  {
   "cell_type": "markdown",
   "metadata": {
    "slideshow": {
     "slide_type": "subslide"
    }
   },
   "source": [
    "### 가변인자 (Var args) 파라미터\n",
    "- 호출하는 쪽에서 argument로 0 ~ n개의 값을 나열해서 여러개의 값들을 전달하면 **tuple이나 dictionary로 묶어서** 받을 수있도록 선언하는 parameter\n",
    "    - positial argument로 전달하는 것과 keyword argument로 전달되는 값을 받는 두가지 방식이 있다.\n",
    "- **\\*변수명**: **positional argument**를 개수와 상관없이 하나의 변수로 받을 수 있도록 선언하는 가변인자.\n",
    "    - 전달된 값들은 tuple로 받아서 처리한다.\n",
    "    - 관례적으로 변수명은 \\*args 를 사용한다.\n",
    "- **\\*\\*변수명**: **keyword argument**를 개수와 상관없이 하나의 변수로 받을 수 있도록 선언하는 가변인자.\n",
    "    - 전달된 값들은 dictionary로 받아서 처리한다.\n",
    "    - 관례적으로 변수명은 \\*\\*kwargs 를 사용한다.\n",
    "- 하나의 함수에 가변인자는 \\* 하나, \\*\\* 두개짜리 각각 한개씩만 선언할 수 있다.\n",
    "- 파라미터 선언순서\n",
    "    1. 기본값이 없는 파라미터\n",
    "    2. 기본값이 있는 파라미터\n",
    "    3. `*args`\n",
    "    4. `**kwargs`"
   ]
  },
  {
   "cell_type": "code",
   "execution_count": null,
   "metadata": {},
   "outputs": [],
   "source": [
    "def add(n1, n2, n3):\n",
    "    return n1+n2+n3"
   ]
  },
  {
   "cell_type": "code",
   "execution_count": 47,
   "metadata": {},
   "outputs": [],
   "source": [
    "# 전달받을 값의 개수가 가변(정해지지 않은경우)일 경우\n",
    "#   자료구조로 묶어서 전달 받은 뒤 for in 문으로 처리.\n",
    "def summation(nums): \n",
    "    # 리스트를 받아서 리스트의 모든 원소의 합을 반환하는 함수.\n",
    "    value = 0\n",
    "    for v in nums:\n",
    "        value += v\n",
    "    return value"
   ]
  },
  {
   "cell_type": "code",
   "execution_count": 48,
   "metadata": {},
   "outputs": [
    {
     "name": "stdout",
     "output_type": "stream",
     "text": [
      "39\n"
     ]
    }
   ],
   "source": [
    "l = [1, 2, 10, 20, 6]\n",
    "result = summation(l)\n",
    "print(result)"
   ]
  },
  {
   "cell_type": "code",
   "execution_count": 49,
   "metadata": {},
   "outputs": [
    {
     "data": {
      "text/plain": [
       "3"
      ]
     },
     "execution_count": 49,
     "metadata": {},
     "output_type": "execute_result"
    }
   ],
   "source": [
    "summation([1, 2])"
   ]
  },
  {
   "cell_type": "code",
   "execution_count": 50,
   "metadata": {},
   "outputs": [
    {
     "data": {
      "text/plain": [
       "15"
      ]
     },
     "execution_count": 50,
     "metadata": {},
     "output_type": "execute_result"
    }
   ],
   "source": [
    "summation([1, 2, 3, 4, 5])"
   ]
  },
  {
   "cell_type": "code",
   "execution_count": 51,
   "metadata": {},
   "outputs": [
    {
     "data": {
      "text/plain": [
       "33"
      ]
     },
     "execution_count": 51,
     "metadata": {},
     "output_type": "execute_result"
    }
   ],
   "source": [
    "summation([1, 2, 4, 5, 6, 7, 8])"
   ]
  },
  {
   "cell_type": "code",
   "execution_count": 52,
   "metadata": {
    "slideshow": {
     "slide_type": "fragment"
    }
   },
   "outputs": [
    {
     "data": {
      "text/plain": [
       "0"
      ]
     },
     "execution_count": 52,
     "metadata": {},
     "output_type": "execute_result"
    }
   ],
   "source": [
    "summation([])"
   ]
  },
  {
   "cell_type": "code",
   "execution_count": 53,
   "metadata": {},
   "outputs": [],
   "source": [
    "def summation_var_args(*nums): \n",
    "    print(type(nums))\n",
    "    value = 0\n",
    "    for v in nums:\n",
    "        value += v\n",
    "    return value"
   ]
  },
  {
   "cell_type": "code",
   "execution_count": 56,
   "metadata": {},
   "outputs": [
    {
     "name": "stdout",
     "output_type": "stream",
     "text": [
      "<class 'tuple'>\n",
      "0\n",
      "<class 'tuple'>\n",
      "3\n",
      "<class 'tuple'>\n",
      "28\n"
     ]
    }
   ],
   "source": [
    "r = summation_var_args()\n",
    "print(r)\n",
    "\n",
    "r = summation_var_args(1, 2)\n",
    "print(r)\n",
    "\n",
    "r = summation_var_args(1, 2, 3, 4, 5, 6, 7)\n",
    "print(r)"
   ]
  },
  {
   "cell_type": "code",
   "execution_count": 60,
   "metadata": {},
   "outputs": [],
   "source": [
    "def print_info(**info):\n",
    "    print(type(info))\n",
    "    print(info)"
   ]
  },
  {
   "cell_type": "code",
   "execution_count": 61,
   "metadata": {},
   "outputs": [
    {
     "name": "stdout",
     "output_type": "stream",
     "text": [
      "<class 'dict'>\n",
      "{'name': '홍길동', 'address': '서울', 'hobby': '게임', 'age': 40}\n"
     ]
    }
   ],
   "source": [
    "print_info(name=\"홍길동\", address=\"서울\", hobby=\"게임\", age=40)"
   ]
  },
  {
   "cell_type": "code",
   "execution_count": null,
   "metadata": {},
   "outputs": [],
   "source": [
    "# 가변인자 - argument의 개수가 정해지지 않은 경우 선언하는 파라미터.\n",
    "## *변수명 : 가변인자를 positional arguments로 받겠다. => tuple\n",
    "###          변수명 관례: *args\n",
    "## **변수명: 가변인자를 keyword arguments로 받겠다. => dictionary\n",
    "###         변수명 관례: **kwargs"
   ]
  },
  {
   "cell_type": "code",
   "execution_count": 69,
   "metadata": {},
   "outputs": [],
   "source": [
    "###  파라미터 선언 순서\n",
    "def test(n1, n2, n3=100, *args, **kwargs):\n",
    "    print(n1, n2, n3)\n",
    "    print(args)\n",
    "    print(kwargs)"
   ]
  },
  {
   "cell_type": "code",
   "execution_count": 71,
   "metadata": {},
   "outputs": [
    {
     "name": "stdout",
     "output_type": "stream",
     "text": [
      "1 2 3\n",
      "(4, 10)\n",
      "{'a': 1, 'b': 2, 'c': 3}\n"
     ]
    }
   ],
   "source": [
    "test(1, 2, 3, 4, 10, a=1, b=2, c=3)"
   ]
  },
  {
   "cell_type": "code",
   "execution_count": 75,
   "metadata": {},
   "outputs": [],
   "source": [
    "def test2(*args):\n",
    "    print(args, len(args))"
   ]
  },
  {
   "cell_type": "code",
   "execution_count": 77,
   "metadata": {},
   "outputs": [
    {
     "name": "stdout",
     "output_type": "stream",
     "text": [
      "(1, 2, 3, 4) 4\n"
     ]
    }
   ],
   "source": [
    "l = [1, 2, 3, 4]\n",
    "test2(*l)  # l(리스트/튜플)의 원소들을 가변인자에 전달."
   ]
  },
  {
   "cell_type": "code",
   "execution_count": 78,
   "metadata": {},
   "outputs": [],
   "source": [
    "def test3(**kwargs):\n",
    "    print(kwargs)"
   ]
  },
  {
   "cell_type": "code",
   "execution_count": 80,
   "metadata": {},
   "outputs": [
    {
     "name": "stdout",
     "output_type": "stream",
     "text": [
      "{'name': '홍길동', 'age': 30}\n"
     ]
    }
   ],
   "source": [
    "d = {\"name\":\"홍길동\", \"age\":30}\n",
    "test3(**d) # d(딕셔너리)의 item들을 가변인자에 전달. key=value, key=value\n",
    "# test3(name=\"홍길동\", age=30)"
   ]
  },
  {
   "cell_type": "markdown",
   "metadata": {
    "slideshow": {
     "slide_type": "slide"
    }
   },
   "source": [
    "# 변수의 유효범위(scope)\n",
    "\n",
    "- **지역변수 (local variable)**\n",
    "    - 함수안에 선언된 변수\n",
    "    - 선언된 그 함수 안에서만 사용할 수 있다.\n",
    "- **전역변수 (global variable)**\n",
    "    - 함수 밖에 선언 된 변수\n",
    "    - 모든 함수들이 공통적으로 사용할 수 있다.\n",
    "    - 하나의 함수에서 값을 변경하면 그 변한 값이 모든 함수에 영향을 주기 때문에 함부로 변경하지 않는다.\n",
    "    - 함수내에서 전역변수에 값을 대입하기 위해서는 global 키워드를 이용해 사용할 것을 미리 선언해야 한다.\n",
    "        - global로 선언하지 않고 함수안에서 전역변수와 이름이 같은 변수에 값을 대입하면 그 변수와 동일한 지역변수을 생성한다.\n",
    "        - 조회할 경우에는 상관없다.\n",
    "            - 함수에서 변수를 조회할 경우 **먼저 지역변수를 찾고 없으면 전역변수를 찾는다.**\n",
    "            \n"
   ]
  },
  {
   "cell_type": "code",
   "execution_count": 85,
   "metadata": {},
   "outputs": [],
   "source": [
    "# 변수: age(파라미터), name => fun1() 함수의 지역변수 => 함수 내에서만 사용가능\n",
    "\n",
    "def fun1(age):\n",
    "    name = \"이순신\"\n",
    "    print(name, age)"
   ]
  },
  {
   "cell_type": "code",
   "execution_count": 82,
   "metadata": {},
   "outputs": [
    {
     "name": "stdout",
     "output_type": "stream",
     "text": [
      "이순신 10\n"
     ]
    }
   ],
   "source": [
    "fun1(10)"
   ]
  },
  {
   "cell_type": "code",
   "execution_count": 86,
   "metadata": {},
   "outputs": [],
   "source": [
    "# 전역변수(global variable)\n",
    "value1 = 100\n",
    "value2 = 2000\n",
    "\n",
    "def fun2():\n",
    "    print(value1, value2)\n",
    "    \n",
    "def fun3():\n",
    "    print(value1, value2)"
   ]
  },
  {
   "cell_type": "code",
   "execution_count": 88,
   "metadata": {},
   "outputs": [
    {
     "name": "stdout",
     "output_type": "stream",
     "text": [
      "100 2000\n",
      "100 2000\n",
      "100 2000\n"
     ]
    }
   ],
   "source": [
    "print(value1, value2)\n",
    "fun2()\n",
    "fun3()"
   ]
  },
  {
   "cell_type": "code",
   "execution_count": null,
   "metadata": {},
   "outputs": [],
   "source": []
  },
  {
   "cell_type": "code",
   "execution_count": 95,
   "metadata": {},
   "outputs": [],
   "source": [
    "# 전역변수 value3\n",
    "value3 = 1000\n",
    "\n",
    "def fun4():\n",
    "#     함수안에서 변수=값 => 지역변수 (이름이 전역변수와 같은 지역변수)\n",
    "    global value3   # value3 변수는 전역변수이다. 선언. (전역변수 값을 변경.)\n",
    "    value3 = 50000\n",
    "    print(value3)\n",
    "\n",
    "def fun5():\n",
    "    print(value3)"
   ]
  },
  {
   "cell_type": "code",
   "execution_count": 96,
   "metadata": {},
   "outputs": [
    {
     "name": "stdout",
     "output_type": "stream",
     "text": [
      "1000\n"
     ]
    }
   ],
   "source": [
    "fun5()"
   ]
  },
  {
   "cell_type": "code",
   "execution_count": 94,
   "metadata": {},
   "outputs": [
    {
     "name": "stdout",
     "output_type": "stream",
     "text": [
      "50000\n",
      "50000\n"
     ]
    }
   ],
   "source": [
    "fun4()\n",
    "fun5()"
   ]
  },
  {
   "cell_type": "code",
   "execution_count": null,
   "metadata": {},
   "outputs": [],
   "source": []
  },
  {
   "cell_type": "code",
   "execution_count": null,
   "metadata": {
    "slideshow": {
     "slide_type": "fragment"
    }
   },
   "outputs": [],
   "source": []
  },
  {
   "cell_type": "markdown",
   "metadata": {
    "slideshow": {
     "slide_type": "slide"
    }
   },
   "source": [
    "# 함수는 일급시민(First class citizen) 이다. \n",
    "- 일급 시민\n",
    "    1. 변수에 대입 할 수 있다.\n",
    "    1. Argument로 사용할 수 있다.\n",
    "    1. 함수나 메소드의 반환값으로 사용 할 수 있다.\n",
    "- 일급\n",
    "    - 모든 권리를 다 가진다는 의미\n",
    "- 시민\n",
    "    - 프로그래밍 언어를 구성하는 객체를 의미\n",
    "- 즉 파이썬에서 함수는 일반 값(객체) 로 취급된다. "
   ]
  },
  {
   "cell_type": "code",
   "execution_count": 1,
   "metadata": {},
   "outputs": [],
   "source": [
    "def greet(name=None):\n",
    "    print(f\"{name}님 안녕하세요\")\n",
    "    return 10"
   ]
  },
  {
   "cell_type": "code",
   "execution_count": 2,
   "metadata": {},
   "outputs": [
    {
     "name": "stdout",
     "output_type": "stream",
     "text": [
      "None님 안녕하세요\n"
     ]
    }
   ],
   "source": [
    "a = greet()  # greet를 호출. 반환값을 a에 할당.\n",
    "b = greet    # greet함수(객체) 자체를 b에 대입. ==> 함수에 이름을 추가."
   ]
  },
  {
   "cell_type": "code",
   "execution_count": 101,
   "metadata": {},
   "outputs": [
    {
     "name": "stdout",
     "output_type": "stream",
     "text": [
      "None님 안녕하세요\n",
      "이순신님 안녕하세요\n"
     ]
    }
   ],
   "source": [
    "# 함수 호출: 함수이름([args,..])\n",
    "greet()\n",
    "greet(\"이순신\")"
   ]
  },
  {
   "cell_type": "code",
   "execution_count": 103,
   "metadata": {},
   "outputs": [
    {
     "data": {
      "text/plain": [
       "<function __main__.greet(name=None)>"
      ]
     },
     "execution_count": 103,
     "metadata": {},
     "output_type": "execute_result"
    }
   ],
   "source": [
    "# my_greet = greet() # greet() 호출해서 반환값을 my_greet 변수에 대입\n",
    "my_greet = greet  # 함수 greet 자체를 변수에 대입 (호출 X)\n",
    "my_greet"
   ]
  },
  {
   "cell_type": "code",
   "execution_count": 105,
   "metadata": {},
   "outputs": [
    {
     "name": "stdout",
     "output_type": "stream",
     "text": [
      "None님 안녕하세요\n",
      "None님 안녕하세요\n"
     ]
    }
   ],
   "source": [
    "greet()\n",
    "my_greet()\n"
   ]
  },
  {
   "cell_type": "code",
   "execution_count": 116,
   "metadata": {},
   "outputs": [
    {
     "name": "stdout",
     "output_type": "stream",
     "text": [
      "이순신님 안녕하세요\n"
     ]
    }
   ],
   "source": [
    "your_greet = greet\n",
    "your_greet(\"이순신\")"
   ]
  },
  {
   "cell_type": "code",
   "execution_count": 117,
   "metadata": {},
   "outputs": [],
   "source": [
    "def greet2(name=None):\n",
    "    print(f\"Hello {name}!\")"
   ]
  },
  {
   "cell_type": "code",
   "execution_count": 119,
   "metadata": {},
   "outputs": [],
   "source": [
    "def test(func):\n",
    "    func(\"Kim\") # 2. greet함수를 호출"
   ]
  },
  {
   "cell_type": "code",
   "execution_count": 120,
   "metadata": {},
   "outputs": [
    {
     "name": "stdout",
     "output_type": "stream",
     "text": [
      "Kim님 안녕하세요\n"
     ]
    }
   ],
   "source": [
    "test(greet) # 1. func에 greet함수를 전달"
   ]
  },
  {
   "cell_type": "code",
   "execution_count": 121,
   "metadata": {},
   "outputs": [
    {
     "name": "stdout",
     "output_type": "stream",
     "text": [
      "Hello Kim!\n"
     ]
    }
   ],
   "source": [
    "test(greet2)"
   ]
  },
  {
   "cell_type": "code",
   "execution_count": null,
   "metadata": {},
   "outputs": [],
   "source": []
  },
  {
   "cell_type": "code",
   "execution_count": 7,
   "metadata": {},
   "outputs": [],
   "source": [
    "def plus(num1, num2): #파라미터 받는 이유: 어떤값을 처리할지는 모르겠다.\n",
    "#     두값의 합을 반환\n",
    "    return num1 + num2"
   ]
  },
  {
   "cell_type": "code",
   "execution_count": 9,
   "metadata": {},
   "outputs": [
    {
     "data": {
      "text/plain": [
       "135"
      ]
     },
     "execution_count": 9,
     "metadata": {},
     "output_type": "execute_result"
    }
   ],
   "source": [
    "plus(15, 120)\n",
    "plus"
   ]
  },
  {
   "cell_type": "code",
   "execution_count": 17,
   "metadata": {},
   "outputs": [],
   "source": [
    "def calc(func):\n",
    "    \n",
    "    num1, num2 = 10, 20\n",
    "    result = func(num1, num2) # callback 함수\n",
    "    return result"
   ]
  },
  {
   "cell_type": "code",
   "execution_count": 18,
   "metadata": {
    "collapsed": true
   },
   "outputs": [
    {
     "ename": "TypeError",
     "evalue": "my_func() takes 0 positional arguments but 2 were given",
     "output_type": "error",
     "traceback": [
      "\u001b[1;31m---------------------------------------------------------------------------\u001b[0m",
      "\u001b[1;31mTypeError\u001b[0m                                 Traceback (most recent call last)",
      "Cell \u001b[1;32mIn[18], line 3\u001b[0m\n\u001b[0;32m      1\u001b[0m \u001b[38;5;28;01mdef\u001b[39;00m \u001b[38;5;21mmy_func\u001b[39m():\n\u001b[0;32m      2\u001b[0m     \u001b[38;5;28;01mpass\u001b[39;00m\n\u001b[1;32m----> 3\u001b[0m calc(my_func)\n",
      "Cell \u001b[1;32mIn[17], line 4\u001b[0m, in \u001b[0;36mcalc\u001b[1;34m(func)\u001b[0m\n\u001b[0;32m      1\u001b[0m \u001b[38;5;28;01mdef\u001b[39;00m \u001b[38;5;21mcalc\u001b[39m(func):\n\u001b[0;32m      3\u001b[0m     num1, num2 \u001b[38;5;241m=\u001b[39m \u001b[38;5;241m10\u001b[39m, \u001b[38;5;241m20\u001b[39m\n\u001b[1;32m----> 4\u001b[0m     result \u001b[38;5;241m=\u001b[39m func(num1, num2) \u001b[38;5;66;03m# callback 함수\u001b[39;00m\n\u001b[0;32m      5\u001b[0m     \u001b[38;5;28;01mreturn\u001b[39;00m result\n",
      "\u001b[1;31mTypeError\u001b[0m: my_func() takes 0 positional arguments but 2 were given"
     ]
    }
   ],
   "source": [
    "def my_func():\n",
    "    pass\n",
    "calc(my_func)"
   ]
  },
  {
   "cell_type": "code",
   "execution_count": 12,
   "metadata": {},
   "outputs": [
    {
     "data": {
      "text/plain": [
       "30"
      ]
     },
     "execution_count": 12,
     "metadata": {},
     "output_type": "execute_result"
    }
   ],
   "source": [
    "calc(plus) "
   ]
  },
  {
   "cell_type": "code",
   "execution_count": 13,
   "metadata": {},
   "outputs": [],
   "source": [
    "# callback 함수: 다른 함수 호출할때 argument로 전달하는 함수.\n",
    "#                정의->호출되는 방식에 맞춰서 정의해야한다.\n",
    "def power(n1, n2):\n",
    "    return n1 ** n2"
   ]
  },
  {
   "cell_type": "code",
   "execution_count": 14,
   "metadata": {},
   "outputs": [
    {
     "data": {
      "text/plain": [
       "100000000000000000000"
      ]
     },
     "execution_count": 14,
     "metadata": {},
     "output_type": "execute_result"
    }
   ],
   "source": [
    "calc(power)# 제곱"
   ]
  },
  {
   "cell_type": "code",
   "execution_count": 15,
   "metadata": {},
   "outputs": [],
   "source": [
    "def minus(n1, n2):\n",
    "    return n1 - n2"
   ]
  },
  {
   "cell_type": "code",
   "execution_count": 16,
   "metadata": {},
   "outputs": [
    {
     "data": {
      "text/plain": [
       "-10"
      ]
     },
     "execution_count": 16,
     "metadata": {},
     "output_type": "execute_result"
    }
   ],
   "source": [
    "calc(minus) #뺄셈"
   ]
  },
  {
   "cell_type": "code",
   "execution_count": null,
   "metadata": {
    "slideshow": {
     "slide_type": "fragment"
    }
   },
   "outputs": [],
   "source": []
  },
  {
   "cell_type": "markdown",
   "metadata": {
    "slideshow": {
     "slide_type": "slide"
    }
   },
   "source": [
    "## 람다식/람다표현식 (Lambda Expression)\n",
    "- 함수를 하나의 식을 이용해서 정의할때 사용하는 표현식(구문).\n",
    "- 값을 입력받아서 **간단한 처리한 결과**를 반환하는 간단한 함수를 표현식으로 정의할 수 있다.\n",
    "    - 처리결과를 return 하는 구문을 하나의 명령문으로 처리할 수 있을때 람다식을 사용할 수 있다. => return x + y\n",
    "- 구문\n",
    "```python\n",
    "lambda 매개변수[, 매개변수, ...] : 명령문(구문)\n",
    "```\n",
    "- 명령문(구문)은 하나의 실행문만 가능하다.\n",
    "- 명령문(구문)이 처리한 결과를 리턴해준다.\n",
    "- **람다식은 함수의 매개변수로 함수를 전달하는 일회성 함수를 만들때 주로 사용한다.**"
   ]
  },
  {
   "cell_type": "code",
   "execution_count": 26,
   "metadata": {},
   "outputs": [
    {
     "data": {
      "text/plain": [
       "<function __main__.<lambda>()>"
      ]
     },
     "execution_count": 26,
     "metadata": {},
     "output_type": "execute_result"
    }
   ],
   "source": [
    "# callback 구현용\n",
    "lambda x, y : x + y\n",
    "lambda x,y,z : x + y + z\n",
    "lambda : 10"
   ]
  },
  {
   "cell_type": "code",
   "execution_count": null,
   "metadata": {},
   "outputs": [],
   "source": [
    "def calc(func):    \n",
    "    num1, num2 = 10, 20\n",
    "    result = func(num1, num2) # callback 함수\n",
    "    return result"
   ]
  },
  {
   "cell_type": "code",
   "execution_count": 27,
   "metadata": {},
   "outputs": [
    {
     "data": {
      "text/plain": [
       "30"
      ]
     },
     "execution_count": 27,
     "metadata": {},
     "output_type": "execute_result"
    }
   ],
   "source": [
    "calc(lambda x, y : x + y)"
   ]
  },
  {
   "cell_type": "code",
   "execution_count": 28,
   "metadata": {},
   "outputs": [
    {
     "data": {
      "text/plain": [
       "100000000000000000000"
      ]
     },
     "execution_count": 28,
     "metadata": {},
     "output_type": "execute_result"
    }
   ],
   "source": [
    "calc(lambda x,y: x ** y)"
   ]
  },
  {
   "cell_type": "code",
   "execution_count": 29,
   "metadata": {},
   "outputs": [
    {
     "data": {
      "text/plain": [
       "False"
      ]
     },
     "execution_count": 29,
     "metadata": {},
     "output_type": "execute_result"
    }
   ],
   "source": [
    "calc(lambda x, y: x > y)"
   ]
  },
  {
   "cell_type": "code",
   "execution_count": 34,
   "metadata": {},
   "outputs": [
    {
     "data": {
      "text/plain": [
       "[30, -10, 200, 0.5]"
      ]
     },
     "execution_count": 34,
     "metadata": {},
     "output_type": "execute_result"
    }
   ],
   "source": [
    "calc(lambda x, y : [x + y, x - y, x * y, x/y])"
   ]
  },
  {
   "cell_type": "code",
   "execution_count": 39,
   "metadata": {},
   "outputs": [
    {
     "data": {
      "text/plain": [
       "<function __main__.<lambda>(x, y)>"
      ]
     },
     "execution_count": 39,
     "metadata": {},
     "output_type": "execute_result"
    }
   ],
   "source": [
    "# 여러개의 처리할 경우 -> 자료구조로 묶어준다. 튜플로 묶을 때는 () 를 반드시 사용해야함.\n",
    "lambda x, y : (x + y, x - y, x * y, x/y)"
   ]
  },
  {
   "cell_type": "code",
   "execution_count": 35,
   "metadata": {},
   "outputs": [
    {
     "data": {
      "text/plain": [
       "(30, -10, 200, 0.5)"
      ]
     },
     "execution_count": 35,
     "metadata": {},
     "output_type": "execute_result"
    }
   ],
   "source": [
    "x, y = 10, 20\n",
    "x + y, x - y, x * y, x/y"
   ]
  },
  {
   "cell_type": "code",
   "execution_count": null,
   "metadata": {
    "slideshow": {
     "slide_type": "fragment"
    }
   },
   "outputs": [],
   "source": []
  },
  {
   "cell_type": "markdown",
   "metadata": {
    "slideshow": {
     "slide_type": "slide"
    }
   },
   "source": [
    "### iterable 관련 함수에서 함수를 매개변수로 받아 처리하는 함수들\n",
    "- sorted(iterable, reverse=False, key=None)\n",
    "    - 정렬처리\n",
    "    - 매개변수\n",
    "        - reverse: True - 내림차순, False - 오름차순(기본)\n",
    "        - key: 함수 \n",
    "            - Parameter로 iterable의 각 원소를 받는 함수.\n",
    "            - 정렬을 할 때 iterable의 원소기준으로 정렬하는 것이 아니라 이 함수가 반환하는 값을 기준으로 정렬\n",
    "- filter(함수, Iterable)\n",
    "    - Iterable의 원소들 중에서 특정 조건을 만족하는 원소들만 걸러주는 함수\n",
    "    - 함수\n",
    "        - 어떻게 걸러낼 것인지 조건을 정의. 매개변수 1개, 반환값 bool\n",
    "        - 원소 하나 하나를 함수에 전달해 True를 반환하는 것만 반환\n",
    "- map(함수, Iterable)\n",
    "    - Iterable의 원소들 하나 하나를 처리(변형)해서 그 결과를 반환\n",
    "    - 함수\n",
    "        - 원소들을 어떻게 처리할지 정의. 매개변수 1개. 반환값: 처리 결과\n",
    "- **filter/map 반환타입**: generator 가 반환 된다."
   ]
  },
  {
   "cell_type": "code",
   "execution_count": null,
   "metadata": {},
   "outputs": [],
   "source": [
    "# 특수문자 < 숫자 < 대문자 < 소문자 < 한글"
   ]
  },
  {
   "cell_type": "code",
   "execution_count": 45,
   "metadata": {},
   "outputs": [
    {
     "data": {
      "text/plain": [
       "['안녕하세요.', 'zz', 'rs', 'k', 'abcde', 'abc', 'a', 'Z', '12345']"
      ]
     },
     "execution_count": 45,
     "metadata": {},
     "output_type": "execute_result"
    }
   ],
   "source": [
    "lst = [\"a\",\"Z\", \"abc\", \"k\", \"zz\", \"abcde\", \"rs\", '12345', \"안녕하세요.\"]\n",
    "lst.sort() # 리스트 자체를 정렬\n",
    "lst.sort(reverse=True) # 내림차순\n",
    "lst"
   ]
  },
  {
   "cell_type": "code",
   "execution_count": 46,
   "metadata": {},
   "outputs": [
    {
     "data": {
      "text/plain": [
       "['안녕하세요.', 'zz', 'rs', 'k', 'abcde', 'abc', 'a', 'Z', '12345']"
      ]
     },
     "execution_count": 46,
     "metadata": {},
     "output_type": "execute_result"
    }
   ],
   "source": [
    "lst = [\"a\",\"Z\", \"abc\", \"k\", \"zz\", \"abcde\", \"rs\", '12345', \"안녕하세요.\"]\n",
    "sorted(lst)  # 정렬한 새로운 리스트를 반환. 모든 자료구조를 정렬해서 리스트에 담아준다.\n",
    "sorted(lst, reverse=True)"
   ]
  },
  {
   "cell_type": "code",
   "execution_count": 49,
   "metadata": {},
   "outputs": [
    {
     "data": {
      "text/plain": [
       "[1, 1, 3, 1, 2, 5, 2, 5, 6]"
      ]
     },
     "execution_count": 49,
     "metadata": {},
     "output_type": "execute_result"
    }
   ],
   "source": [
    "def countChar(txt):\n",
    "    return len(txt)\n",
    "\n",
    "[countChar(t) for t in lst]"
   ]
  },
  {
   "cell_type": "code",
   "execution_count": 50,
   "metadata": {},
   "outputs": [
    {
     "data": {
      "text/plain": [
       "['a', 'Z', 'k', 'zz', 'rs', 'abc', 'abcde', '12345', '안녕하세요.']"
      ]
     },
     "execution_count": 50,
     "metadata": {},
     "output_type": "execute_result"
    }
   ],
   "source": [
    "# 각 원소를 key함수에 전달해서 리턴되는 값을 기준으로 정렬\n",
    "sorted(lst, key=countChar)"
   ]
  },
  {
   "cell_type": "code",
   "execution_count": 52,
   "metadata": {},
   "outputs": [
    {
     "data": {
      "text/plain": [
       "['안녕하세요.', 'abcde', '12345', 'abc', 'zz', 'rs', 'a', 'Z', 'k']"
      ]
     },
     "execution_count": 52,
     "metadata": {},
     "output_type": "execute_result"
    }
   ],
   "source": [
    "sorted(lst, key=lambda x: len(x), reverse=True)"
   ]
  },
  {
   "cell_type": "code",
   "execution_count": 53,
   "metadata": {},
   "outputs": [
    {
     "data": {
      "text/plain": [
       "[1, 13, 27, -101, 17]"
      ]
     },
     "execution_count": 53,
     "metadata": {},
     "output_type": "execute_result"
    }
   ],
   "source": [
    "lst2 = [1, 10, -2, 13, 26, 27, -101, 17]\n",
    "# 홀수\n",
    "[v for v in lst2 if v % 2 != 0]"
   ]
  },
  {
   "cell_type": "code",
   "execution_count": null,
   "metadata": {},
   "outputs": [],
   "source": [
    "filter(함수-filter조건, 자료구조)"
   ]
  },
  {
   "cell_type": "code",
   "execution_count": 55,
   "metadata": {},
   "outputs": [
    {
     "data": {
      "text/plain": [
       "[1, 13, 27, -101, 17]"
      ]
     },
     "execution_count": 55,
     "metadata": {},
     "output_type": "execute_result"
    }
   ],
   "source": [
    "# x: 원소하나를 받을 변수. bool 리턴\n",
    "list(filter(lambda x: x%2 != 0, lst2))"
   ]
  },
  {
   "cell_type": "code",
   "execution_count": 61,
   "metadata": {},
   "outputs": [
    {
     "data": {
      "text/plain": [
       "[-1, -10, 2, -13, -26, -27, 101, -17]"
      ]
     },
     "execution_count": 61,
     "metadata": {},
     "output_type": "execute_result"
    }
   ],
   "source": [
    "[v * -1 for v in lst2]"
   ]
  },
  {
   "cell_type": "code",
   "execution_count": null,
   "metadata": {},
   "outputs": [],
   "source": [
    "# 원소들을 일괄처리.\n",
    "map(함수-처리방식, 자료구조)\n",
    "# 함수-> 원소하나를 받아서 처리결과를 리턴."
   ]
  },
  {
   "cell_type": "code",
   "execution_count": 60,
   "metadata": {},
   "outputs": [
    {
     "data": {
      "text/plain": [
       "[-1, -10, 2, -13, -26, -27, 101, -17]"
      ]
     },
     "execution_count": 60,
     "metadata": {},
     "output_type": "execute_result"
    }
   ],
   "source": [
    "list(map(lambda x: x * -1, lst2))"
   ]
  },
  {
   "cell_type": "code",
   "execution_count": null,
   "metadata": {},
   "outputs": [],
   "source": []
  },
  {
   "cell_type": "code",
   "execution_count": null,
   "metadata": {},
   "outputs": [],
   "source": []
  },
  {
   "cell_type": "markdown",
   "metadata": {
    "slideshow": {
     "slide_type": "skip"
    }
   },
   "source": [
    "# TODO"
   ]
  },
  {
   "cell_type": "code",
   "execution_count": 62,
   "metadata": {
    "slideshow": {
     "slide_type": "skip"
    }
   },
   "outputs": [],
   "source": [
    "# 1. 사용자가 입력한 단의 구구단을 출력하는 함수를 구현(매개변수로 단을 받는다.)\n",
    "\n",
    "def gugudan(dan):\n",
    "    for value in range(1, 10):\n",
    "        print(f\"{dan} X {value} = {dan * value}\")"
   ]
  },
  {
   "cell_type": "code",
   "execution_count": 63,
   "metadata": {
    "collapsed": true
   },
   "outputs": [
    {
     "name": "stdout",
     "output_type": "stream",
     "text": [
      "5 X 1 = 5\n",
      "5 X 2 = 10\n",
      "5 X 3 = 15\n",
      "5 X 4 = 20\n",
      "5 X 5 = 25\n",
      "5 X 6 = 30\n",
      "5 X 7 = 35\n",
      "5 X 8 = 40\n",
      "5 X 9 = 45\n"
     ]
    }
   ],
   "source": [
    "gugudan(5)"
   ]
  },
  {
   "cell_type": "code",
   "execution_count": 64,
   "metadata": {
    "collapsed": true
   },
   "outputs": [
    {
     "name": "stdout",
     "output_type": "stream",
     "text": [
      "8 X 1 = 8\n",
      "8 X 2 = 16\n",
      "8 X 3 = 24\n",
      "8 X 4 = 32\n",
      "8 X 5 = 40\n",
      "8 X 6 = 48\n",
      "8 X 7 = 56\n",
      "8 X 8 = 64\n",
      "8 X 9 = 72\n"
     ]
    }
   ],
   "source": [
    "gugudan(8)"
   ]
  },
  {
   "cell_type": "code",
   "execution_count": 65,
   "metadata": {
    "slideshow": {
     "slide_type": "skip"
    }
   },
   "outputs": [],
   "source": [
    "# 2. 시작 정수, 끝 정수를 받아 그 사이의 모든 정수의 합을 구해서 \n",
    "#   반환하는 함수를 구현(ex: 1, 20 => 1에서 20 사이의 모든 정수의 합계)\n",
    "def summation(start, stop):\n",
    "    result = 0\n",
    "    for value in range(start, stop+1):\n",
    "        result = result + value  # result += value\n",
    "    return result"
   ]
  },
  {
   "cell_type": "code",
   "execution_count": 69,
   "metadata": {},
   "outputs": [
    {
     "name": "stdout",
     "output_type": "stream",
     "text": [
      "55\n",
      "5050\n",
      "266\n"
     ]
    }
   ],
   "source": [
    "v = summation(1, 10)\n",
    "print(v)\n",
    "v = summation(1, 100)\n",
    "print(v)\n",
    "v = summation(5, 23)\n",
    "print(v)"
   ]
  },
  {
   "cell_type": "code",
   "execution_count": 70,
   "metadata": {
    "slideshow": {
     "slide_type": "skip"
    }
   },
   "outputs": [],
   "source": [
    "# 3. 2번 문제에서 시작을 받지 않은 경우 0을, \n",
    "#    끝 정수를 받지 않으면 10이 들어가도록 구현을 변경\n",
    "def summation2(start=0, stop=10):\n",
    "    result = 0\n",
    "    for value in range(start, stop+1):\n",
    "        result = result + value  # result += value\n",
    "    return result"
   ]
  },
  {
   "cell_type": "code",
   "execution_count": 74,
   "metadata": {},
   "outputs": [
    {
     "name": "stdout",
     "output_type": "stream",
     "text": [
      "55\n",
      "45\n",
      "1275\n"
     ]
    }
   ],
   "source": [
    "v = summation2() # 0 ~ 10\n",
    "print(v)\n",
    "v = summation2(5) # start=5, stop: 기본\n",
    "print(v)\n",
    "# 0 ~ 50\n",
    "v = summation2(stop=50) # start: 기본, stop=50\n",
    "print(v)"
   ]
  },
  {
   "cell_type": "code",
   "execution_count": null,
   "metadata": {},
   "outputs": [],
   "source": []
  },
  {
   "cell_type": "code",
   "execution_count": null,
   "metadata": {
    "slideshow": {
     "slide_type": "skip"
    }
   },
   "outputs": [],
   "source": [
    "# 4. 체질량 지수는 비만도를 나타내는 지수로 키가 a미터 \n",
    "#     이고 몸무게가 b kg일때 b/(a**2) 로 구한다.\n",
    "# 체질량 지수가\n",
    "#- 18.5 미만이면 저체중\n",
    "#- 18.5이상 25미만이면 정상 \n",
    "#- 25이상이면 과체중\n",
    "#- 30이상이면 비만으로 하는데\n",
    "#몸무게와 키를 매개변수로 받아 비만인지 과체중인지 반환하는 함수를 구현하시오."
   ]
  },
  {
   "cell_type": "markdown",
   "metadata": {},
   "source": [
    "- doc string => 함수, 클래스에 대한 설명\n",
    "    - 선언부(header) 다음에 세개짜리 문자열로 작성. (주석)\n",
    "- doc string 확인\n",
    "    - help(함수), help(클래스)"
   ]
  },
  {
   "cell_type": "code",
   "execution_count": 89,
   "metadata": {},
   "outputs": [],
   "source": [
    "def get_bmi(tall, weight):\n",
    "    \"\"\"bim 지수를 이용해서 비만 여부를 알려주는 함수 ===> 함수의 대한 설명\n",
    "    Parameter:\n",
    "        tall: float - 키. 단위 미터(m).\n",
    "        weight: float - 몸무게. 단위 kg.\n",
    "    return:\n",
    "        tuple: (비만여부, bim지수)    \n",
    "    \"\"\"\n",
    "    bmi = weight/tall**2\n",
    "    result = None\n",
    "    if bmi < 18.5:\n",
    "        result = \"저체중\"\n",
    "    elif bmi < 25:\n",
    "        result = \"정상\"\n",
    "    elif bmi < 30: \n",
    "        result = \"과체중\"\n",
    "    else:\n",
    "        result = \"비만\"\n",
    "    return result, round(bmi, 2)"
   ]
  },
  {
   "cell_type": "code",
   "execution_count": 90,
   "metadata": {
    "collapsed": true
   },
   "outputs": [
    {
     "name": "stdout",
     "output_type": "stream",
     "text": [
      "Help on function get_bmi in module __main__:\n",
      "\n",
      "get_bmi(tall, weight)\n",
      "    bim 지수를 이용해서 비만 여부를 알려주는 함수 ===> 함수의 대한 설명\n",
      "    Parameter:\n",
      "        tall: float - 키. 단위 미터(m).\n",
      "        weight: float - 몸무게. 단위 kg.\n",
      "    return:\n",
      "        tuple: (비만여부, bim지수)\n",
      "\n"
     ]
    }
   ],
   "source": [
    "help(get_bmi)"
   ]
  },
  {
   "cell_type": "code",
   "execution_count": 91,
   "metadata": {},
   "outputs": [],
   "source": [
    "get_bmi?"
   ]
  },
  {
   "cell_type": "code",
   "execution_count": null,
   "metadata": {},
   "outputs": [],
   "source": [
    "# shift + tab\n",
    "get_bmi"
   ]
  },
  {
   "cell_type": "code",
   "execution_count": 86,
   "metadata": {},
   "outputs": [
    {
     "name": "stdout",
     "output_type": "stream",
     "text": [
      "('저체중', 0.0)\n"
     ]
    }
   ],
   "source": [
    "result = get_bim(175, 90)\n",
    "print(result)"
   ]
  },
  {
   "cell_type": "code",
   "execution_count": null,
   "metadata": {},
   "outputs": [],
   "source": []
  },
  {
   "cell_type": "code",
   "execution_count": 94,
   "metadata": {
    "slideshow": {
     "slide_type": "skip"
    }
   },
   "outputs": [
    {
     "data": {
      "text/plain": [
       "[1, 20, 3, 21]"
      ]
     },
     "execution_count": 94,
     "metadata": {},
     "output_type": "execute_result"
    }
   ],
   "source": [
    "# 람다식\n",
    "#5. filter()를 이용해 다음 리스트에서 양수만 추출히 리스트를 구현\n",
    "ex1 = [1, -10, -2, 20, 3, -5, -7, 21]\n",
    "\n",
    "list(filter(lambda x : x > 0, ex1))\n",
    "\n",
    "# for v in filter(lambda x : x > 0, ex1):\n",
    "#     print(v)"
   ]
  },
  {
   "cell_type": "code",
   "execution_count": 95,
   "metadata": {
    "slideshow": {
     "slide_type": "skip"
    }
   },
   "outputs": [],
   "source": [
    "#6. filter()와 map()을 이용해 다음 리스트에서 음수만 추출한 뒤 \n",
    "#  그 2 제곱한 값들을 가지는 리스트를 구현\n",
    "ex2 = [1, -10, -2, 20, 3, -5, -7, 21]"
   ]
  },
  {
   "cell_type": "code",
   "execution_count": 98,
   "metadata": {},
   "outputs": [
    {
     "data": {
      "text/plain": [
       "[100, 4, 25, 49]"
      ]
     },
     "execution_count": 98,
     "metadata": {},
     "output_type": "execute_result"
    }
   ],
   "source": [
    "a = filter(lambda x: x < 0, ex2)\n",
    "list(map(lambda y: y**2, a))"
   ]
  },
  {
   "cell_type": "code",
   "execution_count": 99,
   "metadata": {},
   "outputs": [
    {
     "data": {
      "text/plain": [
       "[100, 4, 25, 49]"
      ]
     },
     "execution_count": 99,
     "metadata": {},
     "output_type": "execute_result"
    }
   ],
   "source": [
    "list(map(lambda y: y**2, filter(lambda x: x < 0, ex2)))"
   ]
  },
  {
   "cell_type": "code",
   "execution_count": null,
   "metadata": {},
   "outputs": [],
   "source": [
    "함수1(함수1())  # 함수1실행 -> 함수1 실행"
   ]
  },
  {
   "cell_type": "code",
   "execution_count": null,
   "metadata": {},
   "outputs": [],
   "source": []
  },
  {
   "cell_type": "code",
   "execution_count": null,
   "metadata": {},
   "outputs": [],
   "source": []
  },
  {
   "cell_type": "code",
   "execution_count": null,
   "metadata": {},
   "outputs": [],
   "source": []
  },
  {
   "cell_type": "code",
   "execution_count": null,
   "metadata": {},
   "outputs": [],
   "source": []
  },
  {
   "cell_type": "code",
   "execution_count": null,
   "metadata": {},
   "outputs": [],
   "source": []
  }
 ],
 "metadata": {
  "kernelspec": {
   "display_name": "Python 3 (ipykernel)",
   "language": "python",
   "name": "python3"
  },
  "language_info": {
   "codemirror_mode": {
    "name": "ipython",
    "version": 3
   },
   "file_extension": ".py",
   "mimetype": "text/x-python",
   "name": "python",
   "nbconvert_exporter": "python",
   "pygments_lexer": "ipython3",
   "version": "3.11.5"
  },
  "toc": {
   "base_numbering": 1,
   "nav_menu": {},
   "number_sections": true,
   "sideBar": true,
   "skip_h1_title": false,
   "title_cell": "Table of Contents",
   "title_sidebar": "Contents",
   "toc_cell": false,
   "toc_position": {},
   "toc_section_display": true,
   "toc_window_display": false
  },
  "varInspector": {
   "cols": {
    "lenName": 16,
    "lenType": 16,
    "lenVar": 40
   },
   "kernels_config": {
    "python": {
     "delete_cmd_postfix": "",
     "delete_cmd_prefix": "del ",
     "library": "var_list.py",
     "varRefreshCmd": "print(var_dic_list())"
    },
    "r": {
     "delete_cmd_postfix": ") ",
     "delete_cmd_prefix": "rm(",
     "library": "var_list.r",
     "varRefreshCmd": "cat(var_dic_list()) "
    }
   },
   "types_to_exclude": [
    "module",
    "function",
    "builtin_function_or_method",
    "instance",
    "_Feature"
   ],
   "window_display": false
  }
 },
 "nbformat": 4,
 "nbformat_minor": 4
}
